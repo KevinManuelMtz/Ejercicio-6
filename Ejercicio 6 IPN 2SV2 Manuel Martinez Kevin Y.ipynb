{
  "nbformat": 4,
  "nbformat_minor": 0,
  "metadata": {
    "colab": {
      "name": "Ejercicio 6.ipynb",
      "provenance": []
    },
    "kernelspec": {
      "name": "python3",
      "display_name": "Python 3"
    }
  },
  "cells": [
    {
      "cell_type": "code",
      "metadata": {
        "id": "8NYBt1GCasTv",
        "outputId": "0d7b41bc-8b23-40f2-abda-193de39647bc",
        "colab": {
          "base_uri": "https://localhost:8080/"
        }
      },
      "source": [
        "def des(su):\n",
        "  if (su > 0):\n",
        "    if (su < 10000):\n",
        "      print(\"Rango de Menos de 10000, impuesto del 5%\")\n",
        "      su = su * .95\n",
        "    elif (su < 15000):\n",
        "      print(\"Rango de entre 10000 a 15000, impuesto del 10%\")\n",
        "      su = su * .9\n",
        "    elif (su < 20000):\n",
        "      print(\"Rango de entre 15000 a 20000, impuesto del 15%\")\n",
        "      su = su * .85\n",
        "    else:\n",
        "      print(\"Rango de Mas de 20000, impuesto del 18%\")\n",
        "      su = su *.88\n",
        "  else:\n",
        "    return False \n",
        "\n",
        "  print(\"Sueldo neto:\",su,)  \n",
        "  return True\n",
        "\n",
        "su = float(input(\"Ingrese el sueldo obtenido: \"))\n",
        "if des(su):\n",
        "  print(\"Sueldo calculado con exito\")\n",
        "else:\n",
        "  print(\"Error - Error\")"
      ],
      "execution_count": 27,
      "outputs": [
        {
          "output_type": "stream",
          "text": [
            "Ingrese el sueldo obtenido: 30000\n",
            "Rango de Mas de 20000, impuesto del 18%\n",
            "Sueldo neto: 26400.0\n",
            "Sueldo calculado con exito\n"
          ],
          "name": "stdout"
        }
      ]
    }
  ]
}